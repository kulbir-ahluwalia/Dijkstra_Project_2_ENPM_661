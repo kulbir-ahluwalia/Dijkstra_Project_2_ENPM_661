{
 "cells": [
  {
   "cell_type": "markdown",
   "metadata": {},
   "source": [
    "# Dijkstra_rigid_robot__test"
   ]
  },
  {
   "cell_type": "code",
   "execution_count": 8,
   "metadata": {},
   "outputs": [],
   "source": [
    "def circular_obstacle(clearance, radius_rigid_robot, test_point_coord):\n",
    "\tcircle_center = (225,150)\n",
    "\ttest_point_coord_x = test_point_coord[0]\n",
    "\ttest_point_coord_y = test_point_coord[1]\n",
    "\taugment_distance = radius_rigid_robot + clearance\n",
    "\n",
    "\tdistance_from_center = ((test_point_coord_x - circle_center[0])**2 + (test_point_coord_y - circle_center[1])**2)**0.5\n",
    "\n",
    "\tif distance_from_center > (augment_distance+25):\n",
    "\t\treturn False\n",
    "\telse:\n",
    "\t\treturn True\n"
   ]
  },
  {
   "cell_type": "code",
   "execution_count": 9,
   "metadata": {},
   "outputs": [
    {
     "name": "stdout",
     "output_type": "stream",
     "text": [
      "1\n",
      "2\n"
     ]
    }
   ],
   "source": [
    "class Foo():\n",
    "    def __init__(self):\n",
    "        print(1)\n",
    "    def disp(s):\n",
    "        print(2)\n",
    "\n",
    "c = Foo()\n",
    "c.disp()"
   ]
  },
  {
   "cell_type": "code",
   "execution_count": 18,
   "metadata": {},
   "outputs": [],
   "source": [
    "class Node:\n",
    "    def __init__(self, point):\n",
    "        self.point = point\n",
    "        self.cost = math.inf  # initially all the new nodes have infinite cost attached to them\n",
    "        self.parent = None\n",
    "\n",
    "\n",
    "class Robot:\n",
    "    def __init__(self, dim, clear, int_pos, final_pos):\n",
    "        self.dim = dim\n",
    "        self.clear = clear\n",
    "        self.int_pos = int_pos\n",
    "        self.final_pos = final_pos\n"
   ]
  },
  {
   "cell_type": "code",
   "execution_count": null,
   "metadata": {},
   "outputs": [],
   "source": [
    "# def __init__(self, dim, clear, int_pos, final_pos):\n",
    "robo = Robot(dimension, clearance, start_node_position, goal_node_position)\n"
   ]
  },
  {
   "cell_type": "code",
   "execution_count": null,
   "metadata": {},
   "outputs": [],
   "source": [
    "circular_obstacle(2,2,[225,151])"
   ]
  },
  {
   "cell_type": "code",
   "execution_count": null,
   "metadata": {},
   "outputs": [],
   "source": [
    "#function returns false when the point is outside the ellipse\n",
    "def ellipsoid_obstacle(clearance, radius_rigid_robot, test_point_coord):\n",
    "\tellipsoid_center = (150,100)\n",
    "\ttest_point_coord_x = test_point_coord[0]\n",
    "\ttest_point_coord_y = test_point_coord[1]\n",
    "\taugment_distance = radius_rigid_robot + clearance\n",
    "\tsemi_major_axis = 40\n",
    "\tsemi_minor_axis = 20\n",
    "\n",
    "\tdistance_from_center = ((test_point_coord_x - ellipsoid_center[0])**2) / (semi_major_axis**2)+ (test_point_coord_y - ellipsoid_center[1])**2 / (semi_minor_axis**2)\n",
    "\n",
    "\n",
    "\tif distance_from_center > 1:\n",
    "\t\treturn False\n",
    "\telse:\n",
    "\t\treturn True\n"
   ]
  },
  {
   "cell_type": "code",
   "execution_count": 27,
   "metadata": {},
   "outputs": [],
   "source": [
    "def square_obstacle(clearance, radius_rigid_robot, test_point_coord):\n",
    "\n",
    "    circle_center = (225,150)\n",
    "    augment_distance = radius_rigid_robot + clearance\n",
    "\n",
    "    square_point_1 = [100,38.66025]\n",
    "    square_point_2 = [35.0481, 76.1603]\n",
    "    square_point_3 = [30.0481, 67.5]\n",
    "    square_point_4 = [95,30]\n",
    "    \n",
    "    #We set the flags by testing for a point inside the rectangle\n",
    "    #Because the sign for the half plane is unique for every line, we test it by using a point that is confirmed to be inside the rectangle\n",
    "    edge1_m_c = find_line_slope_and_intercept(test_point_coord,square_point_1,square_point_2)\n",
    "    line1 = test_point_coord[1] - (edge1_m_c[0]*test_point_coord[0]) - (edge1_m_c[1] + (augment_distance*0.5*(3**2)))\n",
    "    #print(line1)\n",
    "    if line1>=0:\n",
    "        flag1 = False\n",
    "        #print(\"False\")\n",
    "    else:\n",
    "        flag1 = True\n",
    "        print(\"True\")\n",
    "        \n",
    "    \n",
    "    \n",
    "    edge2_m_c = find_line_slope_and_intercept(test_point_coord,square_point_2,square_point_3)\n",
    "    line2 = test_point_coord[1] - (edge2_m_c[0]*test_point_coord[0]) - (edge2_m_c[1] + (augment_distance*0.5))  \n",
    "    #print(line2)\n",
    "    if line2>=0:\n",
    "        flag2 = False\n",
    "        #print(\"False\")\n",
    "    else:\n",
    "        flag2 = True\n",
    "        #print(\"True\")\n",
    "    \n",
    "    \n",
    "    edge3_m_c = find_line_slope_and_intercept(test_point_coord,square_point_3,square_point_4)\n",
    "    line3 = test_point_coord[1] - (edge3_m_c[0]*test_point_coord[0]) - (edge3_m_c[1] - (augment_distance*0.5*(3**2)))\n",
    "    #print(line3)\n",
    "    if line3>=0:\n",
    "        flag3 = True\n",
    "        #print(\"True\")\n",
    "    else:\n",
    "        flag3 = False\n",
    "        #print(\"False\")\n",
    "    \n",
    "    \n",
    "    \n",
    "    edge4_m_c = find_line_slope_and_intercept(test_point_coord,square_point_4,square_point_1)\n",
    "    line4 = test_point_coord[1] - (edge4_m_c[0]*test_point_coord[0]) - (edge4_m_c[1] - (augment_distance*0.5))\n",
    "    #print(line4)\n",
    "    if line4>=0:\n",
    "        flag4 = True\n",
    "        #print(\"True\")\n",
    "    else:\n",
    "        flag4 = False\n",
    "        #print(\"False\")\n",
    "        \n",
    "    if flag1 and flag2 and flag3 and flag4:\n",
    "        return True\n",
    "    else:\n",
    "        return False\n",
    "\n"
   ]
  },
  {
   "cell_type": "code",
   "execution_count": 28,
   "metadata": {},
   "outputs": [
    {
     "data": {
      "text/plain": [
       "True"
      ]
     },
     "execution_count": 28,
     "metadata": {},
     "output_type": "execute_result"
    }
   ],
   "source": [
    "rectangle_obstacle(2,2,[95,31])"
   ]
  },
  {
   "cell_type": "code",
   "execution_count": 29,
   "metadata": {},
   "outputs": [
    {
     "data": {
      "text/plain": [
       "False"
      ]
     },
     "execution_count": 29,
     "metadata": {},
     "output_type": "execute_result"
    }
   ],
   "source": [
    "rectangle_obstacle(2,2,[95,10])"
   ]
  },
  {
   "cell_type": "code",
   "execution_count": 1,
   "metadata": {},
   "outputs": [],
   "source": [
    "def find_line_slope_and_intercept(test_point_coord, line_point_1, line_point_2):\n",
    "    slope = (line_point_2[1]-line_point_1[1])/(line_point_2[0]-line_point_1[0])\n",
    "    intercept = line_point_1[1]-(slope*line_point_1[0])\n",
    "    #print(slope,intercept)\n",
    "    return slope, intercept"
   ]
  },
  {
   "cell_type": "code",
   "execution_count": 1,
   "metadata": {},
   "outputs": [],
   "source": []
  },
  {
   "cell_type": "code",
   "execution_count": null,
   "metadata": {},
   "outputs": [],
   "source": []
  },
  {
   "cell_type": "code",
   "execution_count": null,
   "metadata": {},
   "outputs": [],
   "source": []
  },
  {
   "cell_type": "code",
   "execution_count": null,
   "metadata": {},
   "outputs": [],
   "source": []
  },
  {
   "cell_type": "code",
   "execution_count": null,
   "metadata": {},
   "outputs": [],
   "source": []
  },
  {
   "cell_type": "code",
   "execution_count": null,
   "metadata": {},
   "outputs": [],
   "source": []
  },
  {
   "cell_type": "code",
   "execution_count": null,
   "metadata": {},
   "outputs": [],
   "source": []
  },
  {
   "cell_type": "code",
   "execution_count": null,
   "metadata": {},
   "outputs": [],
   "source": []
  },
  {
   "cell_type": "code",
   "execution_count": null,
   "metadata": {},
   "outputs": [],
   "source": []
  },
  {
   "cell_type": "code",
   "execution_count": null,
   "metadata": {},
   "outputs": [],
   "source": []
  },
  {
   "cell_type": "code",
   "execution_count": null,
   "metadata": {},
   "outputs": [],
   "source": []
  },
  {
   "cell_type": "code",
   "execution_count": null,
   "metadata": {},
   "outputs": [],
   "source": []
  },
  {
   "cell_type": "code",
   "execution_count": null,
   "metadata": {},
   "outputs": [],
   "source": []
  },
  {
   "cell_type": "code",
   "execution_count": null,
   "metadata": {},
   "outputs": [],
   "source": []
  },
  {
   "cell_type": "code",
   "execution_count": null,
   "metadata": {},
   "outputs": [],
   "source": []
  },
  {
   "cell_type": "code",
   "execution_count": null,
   "metadata": {},
   "outputs": [],
   "source": []
  },
  {
   "cell_type": "code",
   "execution_count": null,
   "metadata": {},
   "outputs": [],
   "source": []
  },
  {
   "cell_type": "code",
   "execution_count": null,
   "metadata": {},
   "outputs": [],
   "source": []
  }
 ],
 "metadata": {
  "kernelspec": {
   "display_name": "Python 3",
   "language": "python",
   "name": "python3"
  },
  "language_info": {
   "codemirror_mode": {
    "name": "ipython",
    "version": 2
   },
   "file_extension": ".py",
   "mimetype": "text/x-python",
   "name": "python",
   "nbconvert_exporter": "python",
   "pygments_lexer": "ipython2",
   "version": "2.7.17"
  }
 },
 "nbformat": 4,
 "nbformat_minor": 2
}
