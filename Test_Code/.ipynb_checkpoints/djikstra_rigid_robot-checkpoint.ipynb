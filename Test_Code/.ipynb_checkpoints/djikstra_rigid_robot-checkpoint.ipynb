{
 "cells": [
  {
   "cell_type": "markdown",
   "metadata": {},
   "source": [
    "# Dijkstra_rigid_robot__test"
   ]
  },
  {
   "cell_type": "code",
   "execution_count": 10,
   "metadata": {},
   "outputs": [],
   "source": [
    "def circular_obstacle(clearance, radius_rigid_robot, test_point_coord):\n",
    "\tcircle_center = (225,150)\n",
    "\ttest_point_coord_x = test_point_coord[0]\n",
    "\ttest_point_coord_y = test_point_coord[1]\n",
    "\taugment_distance = radius_rigid_robot + clearance\n",
    "\n",
    "\tdistance_from_center = ((test_point_coord_x - circle_center[0])**2 + (test_point_coord_y - circle_center[1])**2)**0.5\n",
    "\n",
    "\tif distance_from_center > (augment_distance+25):\n",
    "\t\treturn False\n",
    "\telse:\n",
    "\t\treturn True\n"
   ]
  },
  {
   "cell_type": "code",
   "execution_count": 11,
   "metadata": {},
   "outputs": [
    {
     "data": {
      "text/plain": [
       "True"
      ]
     },
     "execution_count": 11,
     "metadata": {},
     "output_type": "execute_result"
    }
   ],
   "source": [
    "circular_obstacle(2,2,[225,151])"
   ]
  },
  {
   "cell_type": "code",
   "execution_count": 14,
   "metadata": {},
   "outputs": [],
   "source": [
    "#function returns false when the point is outside the ellipse\n",
    "def ellipsoid_obstacle(clearance, radius_rigid_robot, test_point_coord):\n",
    "\tellipsoid_center = (150,100)\n",
    "\ttest_point_coord_x = test_point_coord[0]\n",
    "\ttest_point_coord_y = test_point_coord[1]\n",
    "\taugment_distance = radius_rigid_robot + clearance\n",
    "\tsemi_major_axis = 40\n",
    "\tsemi_minor_axis = 20\n",
    "\n",
    "\tdistance_from_center = ((test_point_coord_x - ellipsoid_center[0])**2) / (semi_major_axis**2)+ (test_point_coord_y - ellipsoid_center[1])**2 / (semi_minor_axis**2)\n",
    "\n",
    "\n",
    "\tif distance_from_center > 1:\n",
    "\t\treturn False\n",
    "\telse:\n",
    "\t\treturn True\n"
   ]
  },
  {
   "cell_type": "code",
   "execution_count": 15,
   "metadata": {},
   "outputs": [
    {
     "data": {
      "text/plain": [
       "False"
      ]
     },
     "execution_count": 15,
     "metadata": {},
     "output_type": "execute_result"
    }
   ],
   "source": [
    "ellipsoid_obstacle(2,2,[225,151])"
   ]
  },
  {
   "cell_type": "code",
   "execution_count": 3,
   "metadata": {},
   "outputs": [],
   "source": [
    "def point_wrt_line(test_point_coord, line_point_1, line_point_2):\n",
    "\n",
    "    D = ((line_point_2[0]-line_point_1[0])*(test_point_coord[1]-line_point_1[1])) - ((test_point_coord[0]-line_point_1[0])*(line_point_2[1]-line_point_1[0]))\n",
    "    print(D)\n",
    "\n",
    "    if D>=0:\n",
    "        return True #on the left of the line, or on the line\n",
    "\n",
    "    else:\n",
    "        return False #D<0, on right of the line\n",
    "\n"
   ]
  },
  {
   "cell_type": "code",
   "execution_count": 2,
   "metadata": {},
   "outputs": [
    {
     "name": "stdout",
     "output_type": "stream",
     "text": [
      "6\n"
     ]
    },
    {
     "data": {
      "text/plain": [
       "True"
      ]
     },
     "execution_count": 2,
     "metadata": {},
     "output_type": "execute_result"
    }
   ],
   "source": [
    "point_wrt_line([3,1],[4,4],[1,1])"
   ]
  },
  {
   "cell_type": "code",
   "execution_count": 3,
   "metadata": {},
   "outputs": [
    {
     "name": "stdout",
     "output_type": "stream",
     "text": [
      "-6\n"
     ]
    },
    {
     "data": {
      "text/plain": [
       "False"
      ]
     },
     "execution_count": 3,
     "metadata": {},
     "output_type": "execute_result"
    }
   ],
   "source": [
    "point_wrt_line([3,1],[1,1],[4,4])"
   ]
  },
  {
   "cell_type": "code",
   "execution_count": 4,
   "metadata": {},
   "outputs": [],
   "source": [
    "def square_obstacle(clearance, radius_rigid_robot, test_point_coord):\n",
    "\n",
    "\tcircle_center = (225,150)\n",
    "\taugment_distance = radius_rigid_robot + clearance\n",
    "\n",
    "\tsquare_point_1 = [100,38.66025]\n",
    "\tsquare_point_2 = [35.0481,76.1603]\n",
    "\tsquare_point_3 = [30.0481,67.5]\n",
    "\tsquare_point_4 = [95,30]\n",
    "\n",
    "\tedge1 = point_wrt_line(test_point_coord,square_point_1,square_point_2)\n",
    "\tedge2 = point_wrt_line(test_point_coord,square_point_2,square_point_3)\n",
    "\tedge3 = point_wrt_line(test_point_coord,square_point_3,square_point_4)\n",
    "\tedge4 = point_wrt_line(test_point_coord,square_point_4,square_point_1)\n",
    "\n",
    "\tprint(edge1)\n",
    "\tprint(edge2)\n",
    "\tprint(edge3)\n",
    "\tprint(edge4)\n",
    "\n"
   ]
  },
  {
   "cell_type": "code",
   "execution_count": 5,
   "metadata": {},
   "outputs": [
    {
     "name": "stdout",
     "output_type": "stream",
     "text": [
      "313.397391975\n",
      "-1724.75156361\n",
      "-2302.66826361\n",
      "10.0\n",
      "True\n",
      "False\n",
      "False\n",
      "True\n"
     ]
    }
   ],
   "source": [
    "square_obstacle(2,2,[95,32])"
   ]
  },
  {
   "cell_type": "code",
   "execution_count": 6,
   "metadata": {},
   "outputs": [],
   "source": [
    "import numpy as np\n",
    "import matplotlib.pyplot as plt\n"
   ]
  },
  {
   "cell_type": "code",
   "execution_count": 22,
   "metadata": {},
   "outputs": [
    {
     "name": "stdout",
     "output_type": "stream",
     "text": [
      "-6.0\n",
      "[-10.  -8.  -6.  -4.  -2.   0.   2.   4.   6.   8.  10.]\n"
     ]
    }
   ],
   "source": [
    "x = np.linspace(-10,10,11)\n",
    "print(x[2])\n",
    "print(x)\n",
    "type(x) \n",
    "\n",
    "y = 2*x + 5"
   ]
  },
  {
   "cell_type": "code",
   "execution_count": 24,
   "metadata": {},
   "outputs": [
    {
     "data": {
      "text/plain": [
       "[<matplotlib.lines.Line2D at 0x7f47d7a22790>]"
      ]
     },
     "execution_count": 24,
     "metadata": {},
     "output_type": "execute_result"
    },
    {
     "data": {
      "image/png": "[encoded data removed]",
      "text/plain": [
       "<Figure size 432x288 with 1 Axes>"
      ]
     },
     "metadata": {
      "needs_background": "light"
     },
     "output_type": "display_data"
    }
   ],
   "source": [
    "plt.plot(x,y,'o')"
   ]
  },
  {
   "cell_type": "code",
   "execution_count": null,
   "metadata": {},
   "outputs": [],
   "source": []
  },
  {
   "cell_type": "code",
   "execution_count": null,
   "metadata": {},
   "outputs": [],
   "source": []
  },
  {
   "cell_type": "code",
   "execution_count": null,
   "metadata": {},
   "outputs": [],
   "source": []
  },
  {
   "cell_type": "code",
   "execution_count": null,
   "metadata": {},
   "outputs": [],
   "source": []
  },
  {
   "cell_type": "code",
   "execution_count": null,
   "metadata": {},
   "outputs": [],
   "source": []
  },
  {
   "cell_type": "code",
   "execution_count": null,
   "metadata": {},
   "outputs": [],
   "source": []
  },
  {
   "cell_type": "code",
   "execution_count": null,
   "metadata": {},
   "outputs": [],
   "source": []
  },
  {
   "cell_type": "code",
   "execution_count": null,
   "metadata": {},
   "outputs": [],
   "source": []
  },
  {
   "cell_type": "code",
   "execution_count": null,
   "metadata": {},
   "outputs": [],
   "source": []
  },
  {
   "cell_type": "code",
   "execution_count": null,
   "metadata": {},
   "outputs": [],
   "source": []
  },
  {
   "cell_type": "code",
   "execution_count": null,
   "metadata": {},
   "outputs": [],
   "source": []
  },
  {
   "cell_type": "code",
   "execution_count": 7,
   "metadata": {},
   "outputs": [
    {
     "name": "stdout",
     "output_type": "stream",
     "text": [
      "a = 0.0833333333333332\n",
      "b = 231.66666666666677\n"
     ]
    },
    {
     "name": "stderr",
     "output_type": "stream",
     "text": [
      "/home/kulbir/.local/lib/python2.7/site-packages/matplotlib/cbook/deprecation.py:107: MatplotlibDeprecationWarning: Passing one of 'on', 'true', 'off', 'false' as a boolean is deprecated; use an actual boolean (True/False) instead.\n",
      "  warnings.warn(message, mplDeprecation, stacklevel=1)\n"
     ]
    },
    {
     "data": {
      "image/png": "[encoded data removed]",
      "text/plain": [
       "<Figure size 432x288 with 1 Axes>"
      ]
     },
     "metadata": {
      "needs_background": "light"
     },
     "output_type": "display_data"
    }
   ],
   "source": [
    "\n",
    "# Define the known points\n",
    "x = [100, 400]\n",
    "y = [240, 265]\n",
    "\n",
    "# Calculate the coefficients. This line answers the initial question. \n",
    "coefficients = np.polyfit(x, y, 1)\n",
    "\n",
    "# Print the findings\n",
    "print 'a =', coefficients[0]\n",
    "print 'b =', coefficients[1]\n",
    "\n",
    "# Let's compute the values of the line...\n",
    "polynomial = np.poly1d(coefficients)\n",
    "x_axis = np.linspace(0,500,100)\n",
    "y_axis = polynomial(x_axis)\n",
    "\n",
    "# ...and plot the points and the line\n",
    "plt.plot(x_axis, y_axis)\n",
    "plt.plot( x[0], y[0], 'go' )\n",
    "plt.plot( x[1], y[1], 'go' )\n",
    "plt.grid('on')\n",
    "plt.show()"
   ]
  },
  {
   "cell_type": "code",
   "execution_count": 1,
   "metadata": {},
   "outputs": [],
   "source": [
    "\n",
    "def point_wrt_line(test_point_coord, line_point_1, line_point_2):\n",
    "\ta = line_point_2[1]-line_point_1[1]\n",
    "\tb = line_point_1[0]-line_point_2[0]\n",
    "\tc = (line_point_2[1]*line_point_1[0])-(line_point_2[0]*line_point_1[1])\n",
    "\n",
    "\tline = a*test_point_coord[0] + b*test_point_coord[1] + c\n",
    "\n",
    "\tif line>=0:\n",
    "\t\treturn True #on the left of the line, or on the line\n",
    "\n",
    "\telse:\n",
    "\t\treturn False #D<0, on right of the line\n",
    "\n"
   ]
  },
  {
   "cell_type": "code",
   "execution_count": 2,
   "metadata": {},
   "outputs": [
    {
     "data": {
      "text/plain": [
       "False"
      ]
     },
     "execution_count": 2,
     "metadata": {},
     "output_type": "execute_result"
    }
   ],
   "source": [
    "point_wrt_line([3,1],[4,4],[1,1])"
   ]
  },
  {
   "cell_type": "code",
   "execution_count": 3,
   "metadata": {},
   "outputs": [
    {
     "data": {
      "text/plain": [
       "True"
      ]
     },
     "execution_count": 3,
     "metadata": {},
     "output_type": "execute_result"
    }
   ],
   "source": [
    "point_wrt_line([1,3],[4,4],[1,1])"
   ]
  },
  {
   "cell_type": "code",
   "execution_count": 4,
   "metadata": {},
   "outputs": [
    {
     "data": {
      "text/plain": [
       "False"
      ]
     },
     "execution_count": 4,
     "metadata": {},
     "output_type": "execute_result"
    }
   ],
   "source": [
    "point_wrt_line([1,3],[1,1],[4,4])"
   ]
  },
  {
   "cell_type": "code",
   "execution_count": 5,
   "metadata": {},
   "outputs": [
    {
     "data": {
      "text/plain": [
       "True"
      ]
     },
     "execution_count": 5,
     "metadata": {},
     "output_type": "execute_result"
    }
   ],
   "source": [
    "point_wrt_line([0,0],[4,4],[1,1])"
   ]
  },
  {
   "cell_type": "code",
   "execution_count": 11,
   "metadata": {},
   "outputs": [
    {
     "ename": "IndentationError",
     "evalue": "unindent does not match any outer indentation level (<ipython-input-11-331d821729ef>, line 16)",
     "output_type": "error",
     "traceback": [
      "\u001b[0;36m  File \u001b[0;32m\"<ipython-input-11-331d821729ef>\"\u001b[0;36m, line \u001b[0;32m16\u001b[0m\n\u001b[0;31m    edge1 = point_wrt_line(test_point_coord,square_point_1,square_point_2)\u001b[0m\n\u001b[0m                                                                          ^\u001b[0m\n\u001b[0;31mIndentationError\u001b[0m\u001b[0;31m:\u001b[0m unindent does not match any outer indentation level\n"
     ]
    }
   ],
   "source": [
    "def square_obstacle(clearance, radius_rigid_robot, test_point_coord):\n",
    "\n",
    "    circle_center = (225,150)\n",
    "    augment_distance = radius_rigid_robot + clearance\n",
    "\n",
    "    square_point_1 = [100,38.66025]\n",
    "    square_point_2 = [35.0481,76.1603]\n",
    "    square_point_3 = [30.0481,67.5]\n",
    "    square_point_4 = [95,30]\n",
    "\n",
    "# \tedge1 = point_wrt_line(test_point_coord,square_point_2,square_point_1)\n",
    "# \tedge2 = point_wrt_line(test_point_coord,square_point_3,square_point_2)\n",
    "# \tedge3 = point_wrt_line(test_point_coord,square_point_4,square_point_3)\n",
    "# \tedge4 = point_wrt_line(test_point_coord,square_point_1,square_point_4)\n",
    "    \n",
    "    edge1 = point_wrt_line(test_point_coord,square_point_1,square_point_2)\n",
    "    edge2 = point_wrt_line(test_point_coord,square_point_2,square_point_3)\n",
    "    edge3 = point_wrt_line(test_point_coord,square_point_3,square_point_4)\n",
    "    edge4 = point_wrt_line(test_point_coord,square_point_4,square_point_1)\n",
    "\n",
    "\n",
    "    print(edge1)\n",
    "    print(edge2)\n",
    "    print(edge3)\n",
    "    print(edge4)\n",
    "\n"
   ]
  },
  {
   "cell_type": "code",
   "execution_count": 8,
   "metadata": {},
   "outputs": [
    {
     "name": "stdout",
     "output_type": "stream",
     "text": [
      "False\n",
      "True\n",
      "True\n",
      "False\n"
     ]
    }
   ],
   "source": [
    "square_obstacle(2,2,[95,30])"
   ]
  },
  {
   "cell_type": "code",
   "execution_count": null,
   "metadata": {},
   "outputs": [],
   "source": []
  },
  {
   "cell_type": "code",
   "execution_count": null,
   "metadata": {},
   "outputs": [],
   "source": []
  },
  {
   "cell_type": "code",
   "execution_count": null,
   "metadata": {},
   "outputs": [],
   "source": []
  },
  {
   "cell_type": "code",
   "execution_count": null,
   "metadata": {},
   "outputs": [],
   "source": []
  },
  {
   "cell_type": "code",
   "execution_count": null,
   "metadata": {},
   "outputs": [],
   "source": []
  }
 ],
 "metadata": {
  "kernelspec": {
   "display_name": "Python 3",
   "language": "python",
   "name": "python3"
  },
  "language_info": {
   "codemirror_mode": {
    "name": "ipython",
    "version": 2
   },
   "file_extension": ".py",
   "mimetype": "text/x-python",
   "name": "python",
   "nbconvert_exporter": "python",
   "pygments_lexer": "ipython2",
   "version": "2.7.17"
  }
 },
 "nbformat": 4,
 "nbformat_minor": 2
}
