{
 "cells": [
  {
   "cell_type": "markdown",
   "metadata": {},
   "source": [
    "# Dijkstra_rigid_robot__test"
   ]
  },
  {
   "cell_type": "code",
   "execution_count": 8,
   "metadata": {},
   "outputs": [],
   "source": [
    "def circular_obstacle(clearance, radius_rigid_robot, test_point_coord):\n",
    "\tcircle_center = (225,150)\n",
    "\ttest_point_coord_x = test_point_coord[0]\n",
    "\ttest_point_coord_y = test_point_coord[1]\n",
    "\taugment_distance = radius_rigid_robot + clearance\n",
    "\n",
    "\tdistance_from_center = ((test_point_coord_x - circle_center[0])**2 + (test_point_coord_y - circle_center[1])**2)**0.5\n",
    "\n",
    "\tif distance_from_center > (augment_distance+25):\n",
    "\t\treturn False\n",
    "\telse:\n",
    "\t\treturn True\n"
   ]
  },
  {
   "cell_type": "code",
   "execution_count": 9,
   "metadata": {},
   "outputs": [
    {
     "name": "stdout",
     "output_type": "stream",
     "text": [
      "1\n",
      "2\n"
     ]
    }
   ],
   "source": [
    "class Foo():\n",
    "    def __init__(self):\n",
    "        print(1)\n",
    "    def disp(s):\n",
    "        print(2)\n",
    "\n",
    "c = Foo()\n",
    "c.disp()"
   ]
  },
  {
   "cell_type": "code",
   "execution_count": 18,
   "metadata": {},
   "outputs": [],
   "source": [
    "class Node:\n",
    "    def __init__(self, point):\n",
    "        self.point = point\n",
    "        self.cost = math.inf  # initially all the new nodes have infinite cost attached to them\n",
    "        self.parent = None\n",
    "\n",
    "\n",
    "class Robot:\n",
    "    def __init__(self, dim, clear, int_pos, final_pos):\n",
    "        self.dim = dim\n",
    "        self.clear = clear\n",
    "        self.int_pos = int_pos\n",
    "        self.final_pos = final_pos\n"
   ]
  },
  {
   "cell_type": "code",
   "execution_count": null,
   "metadata": {},
   "outputs": [],
   "source": [
    "# def __init__(self, dim, clear, int_pos, final_pos):\n",
    "robo = Robot(dimension, clearance, start_node_position, goal_node_position)\n"
   ]
  },
  {
   "cell_type": "code",
   "execution_count": null,
   "metadata": {},
   "outputs": [],
   "source": [
    "circular_obstacle(2,2,[225,151])"
   ]
  },
  {
   "cell_type": "code",
   "execution_count": null,
   "metadata": {},
   "outputs": [],
   "source": [
    "#function returns false when the point is outside the ellipse\n",
    "def ellipsoid_obstacle(clearance, radius_rigid_robot, test_point_coord):\n",
    "\tellipsoid_center = (150,100)\n",
    "\ttest_point_coord_x = test_point_coord[0]\n",
    "\ttest_point_coord_y = test_point_coord[1]\n",
    "\taugment_distance = radius_rigid_robot + clearance\n",
    "\tsemi_major_axis = 40\n",
    "\tsemi_minor_axis = 20\n",
    "\n",
    "\tdistance_from_center = ((test_point_coord_x - ellipsoid_center[0])**2) / (semi_major_axis**2)+ (test_point_coord_y - ellipsoid_center[1])**2 / (semi_minor_axis**2)\n",
    "\n",
    "\n",
    "\tif distance_from_center > 1:\n",
    "\t\treturn False\n",
    "\telse:\n",
    "\t\treturn True\n"
   ]
  },
  {
   "cell_type": "code",
   "execution_count": 28,
   "metadata": {},
   "outputs": [
    {
     "data": {
      "text/plain": [
       "True"
      ]
     },
     "execution_count": 28,
     "metadata": {},
     "output_type": "execute_result"
    }
   ],
   "source": [
    "rectangle_obstacle(2,2,[95,31])"
   ]
  },
  {
   "cell_type": "code",
   "execution_count": 29,
   "metadata": {},
   "outputs": [
    {
     "data": {
      "text/plain": [
       "False"
      ]
     },
     "execution_count": 29,
     "metadata": {},
     "output_type": "execute_result"
    }
   ],
   "source": [
    "rectangle_obstacle(2,2,[95,10])"
   ]
  },
  {
   "cell_type": "code",
   "execution_count": 3,
   "metadata": {},
   "outputs": [],
   "source": [
    "def find_line_slope_and_intercept(test_point_coord, line_point_1, line_point_2):\n",
    "    slope = (line_point_2[1]-line_point_1[1])/(line_point_2[0]-line_point_1[0])\n",
    "    intercept = line_point_1[1]-(slope*line_point_1[0])\n",
    "    #print(slope,intercept)\n",
    "    return slope, intercept\n"
   ]
  },
  {
   "cell_type": "code",
   "execution_count": 10,
   "metadata": {},
   "outputs": [],
   "source": [
    "def rhombus_obstacle(clearance, radius_rigid_robot, test_point_coord):\n",
    "\n",
    "    augment_distance = radius_rigid_robot + clearance\n",
    "\n",
    "    rhombus_point_1 = [250,25]\n",
    "    rhombus_point_2 = [225,40]\n",
    "    rhombus_point_3 = [200,25]\n",
    "    rhombus_point_4 = [225,10]\n",
    "    \n",
    "    #We set the flags by testing for a point inside the rectangle\n",
    "    #Because the sign for the half plane is unique for every line, we test it by using a point that is confirmed to be inside the rectangle\n",
    "    edge1_m_c = find_line_slope_and_intercept(test_point_coord,rhombus_point_1, rhombus_point_2)\n",
    "    line1 = test_point_coord[1] - (edge1_m_c[0]*test_point_coord[0]) - (edge1_m_c[1] + (augment_distance*0.8575))\n",
    "    #print(line1)\n",
    "    if line1>=0:\n",
    "        flag1 = False\n",
    "#         print(\"False\")\n",
    "    else:\n",
    "        flag1 = True\n",
    "#         print(\"True\")\n",
    "        \n",
    "    \n",
    "    edge2_m_c = find_line_slope_and_intercept(test_point_coord,rhombus_point_2,rhombus_point_3)\n",
    "    line2 = test_point_coord[1] - (edge2_m_c[0]*test_point_coord[0]) - (edge2_m_c[1] + (augment_distance*0.8575))  \n",
    "    #print(line2)\n",
    "    if line2>=0:\n",
    "        flag2 = False\n",
    "#         print(\"False\")\n",
    "    else:\n",
    "        flag2 = True\n",
    "#         print(\"True\")\n",
    "    \n",
    "    \n",
    "    edge3_m_c = find_line_slope_and_intercept(test_point_coord,rhombus_point_3,rhombus_point_4)\n",
    "    line3 = test_point_coord[1] - (edge3_m_c[0]*test_point_coord[0]) - (edge3_m_c[1] - (augment_distance*0.8575))\n",
    "    #print(line3)\n",
    "    if line3>=0:\n",
    "        flag3 = True\n",
    "#         print(\"True\")\n",
    "    else:\n",
    "        flag3 = False\n",
    "#         print(\"False\")\n",
    "    \n",
    "    \n",
    "    edge4_m_c = find_line_slope_and_intercept(test_point_coord,rhombus_point_4,rhombus_point_1)\n",
    "    line4 = test_point_coord[1] - (edge4_m_c[0]*test_point_coord[0]) - (edge4_m_c[1] - (augment_distance*0.8575))\n",
    "    #print(line4)\n",
    "    if line4>=0:\n",
    "        flag4 = True\n",
    "#         print(\"True\")\n",
    "    else:\n",
    "        flag4 = False\n",
    "#         print(\"False\")\n",
    "        \n",
    "    if flag1 and flag2 and flag3 and flag4:\n",
    "        return True\n",
    "    else:\n",
    "        return False\n"
   ]
  },
  {
   "cell_type": "code",
   "execution_count": 8,
   "metadata": {},
   "outputs": [
    {
     "name": "stdout",
     "output_type": "stream",
     "text": [
      "True\n",
      "True\n",
      "True\n",
      "True\n"
     ]
    },
    {
     "data": {
      "text/plain": [
       "True"
      ]
     },
     "execution_count": 8,
     "metadata": {},
     "output_type": "execute_result"
    }
   ],
   "source": [
    "rhombus_obstacle(2,2,[225,25])"
   ]
  },
  {
   "cell_type": "code",
   "execution_count": 9,
   "metadata": {},
   "outputs": [
    {
     "name": "stdout",
     "output_type": "stream",
     "text": [
      "True\n",
      "False\n",
      "True\n",
      "True\n"
     ]
    },
    {
     "data": {
      "text/plain": [
       "False"
      ]
     },
     "execution_count": 9,
     "metadata": {},
     "output_type": "execute_result"
    }
   ],
   "source": [
    "rhombus_obstacle(2,2,[225,45])"
   ]
  },
  {
   "cell_type": "code",
   "execution_count": 24,
   "metadata": {},
   "outputs": [],
   "source": [
    "def nonconvex_obstacle_right_half(clearance, radius_rigid_robot, test_point_coord):\n",
    "\n",
    "    augment_distance = radius_rigid_robot + clearance\n",
    "\n",
    "    nonconvex_point_1 = [100,150]\n",
    "    nonconvex_point_2 = [75,185]\n",
    "    nonconvex_point_3 = [60,185]\n",
    "    nonconvex_point_4 = [50,150]\n",
    "    nonconvex_point_5 = [75,120]\n",
    "    \n",
    "    #We set the flags by testing for a point inside the rectangle\n",
    "    #Because the sign for the half plane is unique for every line, we test it by using a point that is confirmed to be inside the nonconvex_obstacle\n",
    "    edge1_m_c = find_line_slope_and_intercept(test_point_coord,nonconvex_point_1, nonconvex_point_2)\n",
    "    line1 = test_point_coord[1] - (edge1_m_c[0]*test_point_coord[0]) - (edge1_m_c[1] + (augment_distance*0.58124))\n",
    "    #print(line1)\n",
    "    if line1>=0:\n",
    "        flag1 = False\n",
    "        print(\"False\")\n",
    "    else:\n",
    "        flag1 = True\n",
    "        print(\"True\")\n",
    "        \n",
    "    \n",
    "    edge2_m_c = find_line_slope_and_intercept(test_point_coord,nonconvex_point_2,nonconvex_point_3)\n",
    "    line2 = test_point_coord[1] - (edge2_m_c[0]*test_point_coord[0]) - (edge2_m_c[1] + (augment_distance*1))  \n",
    "    #print(line2)\n",
    "    if line2>=0:\n",
    "        flag2 = False\n",
    "        print(\"False\")\n",
    "    else:\n",
    "        flag2 = True\n",
    "        print(\"True\")\n",
    "    \n",
    "    \n",
    "    edge3_m_c = find_line_slope_and_intercept(test_point_coord,nonconvex_point_3,nonconvex_point_4)\n",
    "    line3 = test_point_coord[1] - (edge3_m_c[0]*test_point_coord[0]) - (edge3_m_c[1] + (augment_distance*0.27472))\n",
    "    #print(line3)\n",
    "    if line3>=0:\n",
    "        flag3 = False\n",
    "        print(\"False\")\n",
    "    else:\n",
    "        flag3 = True\n",
    "        print(\"True\")\n",
    "    \n",
    "    \n",
    "    edge4_m_c = find_line_slope_and_intercept(test_point_coord,nonconvex_point_4,nonconvex_point_5)\n",
    "    line4 = test_point_coord[1] - (edge4_m_c[0]*test_point_coord[0]) - (edge4_m_c[1] - (augment_distance*0.64018))\n",
    "    #print(line4)\n",
    "    if line4>=0:\n",
    "        flag4 = True\n",
    "        print(\"True\")\n",
    "    else:\n",
    "        flag4 = False\n",
    "        print(\"False\")\n",
    "\n",
    "    edge5_m_c = find_line_slope_and_intercept(test_point_coord,nonconvex_point_5,nonconvex_point_1)\n",
    "    line5 = test_point_coord[1] - (edge5_m_c[0]*test_point_coord[0]) - (edge5_m_c[1] - (augment_distance*0.640184))\n",
    "    #print(line4)\n",
    "    if line5>=0:\n",
    "        flag5 = True\n",
    "        print(\"True\")\n",
    "    else:\n",
    "        flag5 = False\n",
    "        print(\"False\")\n",
    "\n",
    "\n",
    "        \n",
    "    if flag1 and flag2 and flag3 and flag4 and flag5:\n",
    "        return True\n",
    "    else:\n",
    "        return False\n",
    "\n"
   ]
  },
  {
   "cell_type": "code",
   "execution_count": 25,
   "metadata": {},
   "outputs": [
    {
     "name": "stdout",
     "output_type": "stream",
     "text": [
      "True\n",
      "True\n",
      "True\n",
      "True\n",
      "True\n"
     ]
    },
    {
     "data": {
      "text/plain": [
       "True"
      ]
     },
     "execution_count": 25,
     "metadata": {},
     "output_type": "execute_result"
    }
   ],
   "source": [
    "nonconvex_obstacle_right_half(2, 2, [75,150])"
   ]
  },
  {
   "cell_type": "code",
   "execution_count": 26,
   "metadata": {},
   "outputs": [
    {
     "name": "stdout",
     "output_type": "stream",
     "text": [
      "True\n",
      "True\n",
      "True\n",
      "True\n",
      "True\n"
     ]
    },
    {
     "data": {
      "text/plain": [
       "True"
      ]
     },
     "execution_count": 26,
     "metadata": {},
     "output_type": "execute_result"
    }
   ],
   "source": [
    "nonconvex_obstacle_right_half(2, 2, [75,117.44])"
   ]
  },
  {
   "cell_type": "code",
   "execution_count": null,
   "metadata": {},
   "outputs": [],
   "source": [
    "\n",
    "def nonconvex_obstacle_left_half(clearance, radius_rigid_robot, test_point_coord):\n",
    "\n",
    "    augment_distance = radius_rigid_robot + clearance\n",
    "\n",
    "    nonconvex_point_1 = [100,150]\n",
    "    nonconvex_point_2 = [75,185]\n",
    "    nonconvex_point_3 = [60,185]\n",
    "    nonconvex_point_4 = [50,150]\n",
    "    nonconvex_point_5 = [75,120]\n",
    "    \n",
    "    #We set the flags by testing for a point inside the rectangle\n",
    "    #Because the sign for the half plane is unique for every line, we test it by using a point that is confirmed to be inside the nonconvex_obstacle\n",
    "    edge1_m_c = find_line_slope_and_intercept(test_point_coord,nonconvex_point_1, nonconvex_point_2)\n",
    "    line1 = test_point_coord[1] - (edge1_m_c[0]*test_point_coord[0]) - (edge1_m_c[1] + (augment_distance*0.58124))\n",
    "    #print(line1)\n",
    "    if line1>=0:\n",
    "        flag1 = False\n",
    "        print(\"False\")\n",
    "    else:\n",
    "        flag1 = True\n",
    "        print(\"True\")\n",
    "        \n",
    "    \n",
    "    edge2_m_c = find_line_slope_and_intercept(test_point_coord,nonconvex_point_2,nonconvex_point_3)\n",
    "    line2 = test_point_coord[1] - (edge2_m_c[0]*test_point_coord[0]) - (edge2_m_c[1] + (augment_distance*1))  \n",
    "    #print(line2)\n",
    "    if line2>=0:\n",
    "        flag2 = False\n",
    "        print(\"False\")\n",
    "    else:\n",
    "        flag2 = True\n",
    "        print(\"True\")\n",
    "    \n",
    "    #edge 3 is not augmented with clearance+robot_radius since its inside the nonconvex polygon\n",
    "    edge3_m_c = find_line_slope_and_intercept(test_point_coord,nonconvex_point_3,nonconvex_point_4)\n",
    "    line3 = test_point_coord[1] - (edge3_m_c[0]*test_point_coord[0]) - (edge3_m_c[1] + (augment_distance*0))\n",
    "    #print(line3)\n",
    "    if line3>=0:\n",
    "        flag3 = False\n",
    "        print(\"False\")\n",
    "    else:\n",
    "        flag3 = True\n",
    "        print(\"True\")\n",
    "    \n",
    "    \n",
    "    edge4_m_c = find_line_slope_and_intercept(test_point_coord,nonconvex_point_4,nonconvex_point_5)\n",
    "    line4 = test_point_coord[1] - (edge4_m_c[0]*test_point_coord[0]) - (edge4_m_c[1] - (augment_distance*0.64018))\n",
    "    #print(line4)\n",
    "    if line4>=0:\n",
    "        flag4 = True\n",
    "        print(\"True\")\n",
    "    else:\n",
    "        flag4 = False\n",
    "        print(\"False\")\n",
    "\n",
    "    edge5_m_c = find_line_slope_and_intercept(test_point_coord,nonconvex_point_5,nonconvex_point_1)\n",
    "    line5 = test_point_coord[1] - (edge5_m_c[0]*test_point_coord[0]) - (edge5_m_c[1] - (augment_distance*0.640184))\n",
    "    #print(line4)\n",
    "    if line5>=0:\n",
    "        flag5 = True\n",
    "        print(\"True\")\n",
    "    else:\n",
    "        flag5 = False\n",
    "        print(\"False\")\n",
    "\n",
    "\n",
    "        \n",
    "    if flag1 and flag2 and flag3 and flag4 and flag5:\n",
    "        return True\n",
    "    else:\n",
    "        return False\n"
   ]
  },
  {
   "cell_type": "code",
   "execution_count": null,
   "metadata": {},
   "outputs": [],
   "source": []
  },
  {
   "cell_type": "code",
   "execution_count": null,
   "metadata": {},
   "outputs": [],
   "source": []
  },
  {
   "cell_type": "code",
   "execution_count": null,
   "metadata": {},
   "outputs": [],
   "source": []
  },
  {
   "cell_type": "code",
   "execution_count": null,
   "metadata": {},
   "outputs": [],
   "source": []
  },
  {
   "cell_type": "code",
   "execution_count": null,
   "metadata": {},
   "outputs": [],
   "source": []
  },
  {
   "cell_type": "code",
   "execution_count": null,
   "metadata": {},
   "outputs": [],
   "source": []
  },
  {
   "cell_type": "code",
   "execution_count": null,
   "metadata": {},
   "outputs": [],
   "source": []
  },
  {
   "cell_type": "code",
   "execution_count": null,
   "metadata": {},
   "outputs": [],
   "source": []
  },
  {
   "cell_type": "code",
   "execution_count": null,
   "metadata": {},
   "outputs": [],
   "source": []
  },
  {
   "cell_type": "code",
   "execution_count": null,
   "metadata": {},
   "outputs": [],
   "source": []
  },
  {
   "cell_type": "code",
   "execution_count": null,
   "metadata": {},
   "outputs": [],
   "source": []
  }
 ],
 "metadata": {
  "kernelspec": {
   "display_name": "Python 3",
   "language": "python",
   "name": "python3"
  },
  "language_info": {
   "codemirror_mode": {
    "name": "ipython",
    "version": 2
   },
   "file_extension": ".py",
   "mimetype": "text/x-python",
   "name": "python",
   "nbconvert_exporter": "python",
   "pygments_lexer": "ipython2",
   "version": "2.7.17"
  }
 },
 "nbformat": 4,
 "nbformat_minor": 2
}
